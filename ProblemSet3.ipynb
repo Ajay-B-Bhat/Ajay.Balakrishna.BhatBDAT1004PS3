{
 "cells": [
  {
   "cell_type": "markdown",
   "id": "51dc6a93-53b3-4a22-a15f-2adfcde3d1aa",
   "metadata": {},
   "source": [
    "Question 1"
   ]
  },
  {
   "cell_type": "code",
   "execution_count": 11,
   "id": "a12c0561-25e6-4045-bcc0-5334a5b6c2d7",
   "metadata": {},
   "outputs": [],
   "source": [
    "import pandas as pd\n",
    "\n",
    "url = \"https://raw.githubusercontent.com/justmarkham/DAT8/master/data/u.user\"\n",
    "users = pd.read_csv(url, sep='|')"
   ]
  },
  {
   "cell_type": "code",
   "execution_count": 13,
   "id": "1bad4f13-337f-4f40-8dd5-3254421e1bd7",
   "metadata": {},
   "outputs": [
    {
     "name": "stdout",
     "output_type": "stream",
     "text": [
      "Mean Age per Occupation:\n",
      "occupation\n",
      "administrator    38.746835\n",
      "artist           31.392857\n",
      "doctor           43.571429\n",
      "educator         42.010526\n",
      "engineer         36.388060\n",
      "entertainment    29.222222\n",
      "executive        38.718750\n",
      "healthcare       41.562500\n",
      "homemaker        32.571429\n",
      "lawyer           36.750000\n",
      "librarian        40.000000\n",
      "marketing        37.615385\n",
      "none             26.555556\n",
      "other            34.523810\n",
      "programmer       33.121212\n",
      "retired          63.071429\n",
      "salesman         35.666667\n",
      "scientist        35.548387\n",
      "student          22.081633\n",
      "technician       33.148148\n",
      "writer           36.311111\n",
      "Name: age, dtype: float64\n"
     ]
    }
   ],
   "source": [
    "mean_age_per_occupation = users.groupby('occupation')['age'].mean()\n",
    "print(\"Mean Age per Occupation:\")\n",
    "print(mean_age_per_occupation)"
   ]
  },
  {
   "cell_type": "code",
   "execution_count": 15,
   "id": "e449cefa-8ee5-4997-abe1-24ddd4785e24",
   "metadata": {},
   "outputs": [
    {
     "name": "stdout",
     "output_type": "stream",
     "text": [
      "\n",
      "Male Ratio per Occupation (Sorted):\n",
      "occupation\n",
      "doctor           1.000000\n",
      "engineer         0.970149\n",
      "technician       0.962963\n",
      "retired          0.928571\n",
      "programmer       0.909091\n",
      "executive        0.906250\n",
      "scientist        0.903226\n",
      "entertainment    0.888889\n",
      "lawyer           0.833333\n",
      "salesman         0.750000\n",
      "educator         0.726316\n",
      "student          0.693878\n",
      "other            0.657143\n",
      "marketing        0.615385\n",
      "writer           0.577778\n",
      "none             0.555556\n",
      "administrator    0.544304\n",
      "artist           0.535714\n",
      "librarian        0.431373\n",
      "healthcare       0.312500\n",
      "homemaker        0.142857\n",
      "Name: gender, dtype: float64\n"
     ]
    }
   ],
   "source": [
    "male_ratio = (users[users['gender'] == 'M']\n",
    "              .groupby('occupation')['gender']\n",
    "              .count() / users.groupby('occupation')['gender'].count())\n",
    "male_ratio_sorted = male_ratio.sort_values(ascending=False)\n",
    "print(\"\\nMale Ratio per Occupation (Sorted):\")\n",
    "print(male_ratio_sorted)"
   ]
  },
  {
   "cell_type": "code",
   "execution_count": 17,
   "id": "8bb406f8-223c-4da9-88be-26379b6d2e67",
   "metadata": {},
   "outputs": [
    {
     "name": "stdout",
     "output_type": "stream",
     "text": [
      "\n",
      "Minimum and Maximum Ages per Occupation:\n",
      "               min  max\n",
      "occupation             \n",
      "administrator   21   70\n",
      "artist          19   48\n",
      "doctor          28   64\n",
      "educator        23   63\n",
      "engineer        22   70\n",
      "entertainment   15   50\n",
      "executive       22   69\n",
      "healthcare      22   62\n",
      "homemaker       20   50\n",
      "lawyer          21   53\n",
      "librarian       23   69\n",
      "marketing       24   55\n",
      "none            11   55\n",
      "other           13   64\n",
      "programmer      20   63\n",
      "retired         51   73\n",
      "salesman        18   66\n",
      "scientist       23   55\n",
      "student          7   42\n",
      "technician      21   55\n",
      "writer          18   60\n"
     ]
    }
   ],
   "source": [
    "age_stats = users.groupby('occupation')['age'].agg(['min', 'max'])\n",
    "print(\"\\nMinimum and Maximum Ages per Occupation:\")\n",
    "print(age_stats)\n"
   ]
  },
  {
   "cell_type": "code",
   "execution_count": 19,
   "id": "785d5cf6-426a-4d34-ba06-de0b6919c08b",
   "metadata": {},
   "outputs": [
    {
     "name": "stdout",
     "output_type": "stream",
     "text": [
      "\n",
      "Mean Age by Occupation and Gender:\n",
      "occupation     gender\n",
      "administrator  F         40.638889\n",
      "               M         37.162791\n",
      "artist         F         30.307692\n",
      "               M         32.333333\n",
      "doctor         M         43.571429\n",
      "educator       F         39.115385\n",
      "               M         43.101449\n",
      "engineer       F         29.500000\n",
      "               M         36.600000\n",
      "entertainment  F         31.000000\n",
      "               M         29.000000\n",
      "executive      F         44.000000\n",
      "               M         38.172414\n",
      "healthcare     F         39.818182\n",
      "               M         45.400000\n",
      "homemaker      F         34.166667\n",
      "               M         23.000000\n",
      "lawyer         F         39.500000\n",
      "               M         36.200000\n",
      "librarian      F         40.000000\n",
      "               M         40.000000\n",
      "marketing      F         37.200000\n",
      "               M         37.875000\n",
      "none           F         36.500000\n",
      "               M         18.600000\n",
      "other          F         35.472222\n",
      "               M         34.028986\n",
      "programmer     F         32.166667\n",
      "               M         33.216667\n",
      "retired        F         70.000000\n",
      "               M         62.538462\n",
      "salesman       F         27.000000\n",
      "               M         38.555556\n",
      "scientist      F         28.333333\n",
      "               M         36.321429\n",
      "student        F         20.750000\n",
      "               M         22.669118\n",
      "technician     F         38.000000\n",
      "               M         32.961538\n",
      "writer         F         37.631579\n",
      "               M         35.346154\n",
      "Name: age, dtype: float64\n"
     ]
    }
   ],
   "source": [
    "mean_age_by_occ_gender = users.groupby(['occupation', 'gender'])['age'].mean()\n",
    "print(\"\\nMean Age by Occupation and Gender:\")\n",
    "print(mean_age_by_occ_gender)"
   ]
  },
  {
   "cell_type": "code",
   "execution_count": 21,
   "id": "f97c4635-a2b7-4231-8e71-5c6a535f0162",
   "metadata": {},
   "outputs": [
    {
     "name": "stdout",
     "output_type": "stream",
     "text": [
      "\n",
      "Percentage of Men and Women per Occupation:\n",
      "gender                F         M\n",
      "occupation                       \n",
      "administrator  0.455696  0.544304\n",
      "artist         0.464286  0.535714\n",
      "doctor              NaN  1.000000\n",
      "educator       0.273684  0.726316\n",
      "engineer       0.029851  0.970149\n",
      "entertainment  0.111111  0.888889\n",
      "executive      0.093750  0.906250\n",
      "healthcare     0.687500  0.312500\n",
      "homemaker      0.857143  0.142857\n",
      "lawyer         0.166667  0.833333\n",
      "librarian      0.568627  0.431373\n",
      "marketing      0.384615  0.615385\n",
      "none           0.444444  0.555556\n",
      "other          0.342857  0.657143\n",
      "programmer     0.090909  0.909091\n",
      "retired        0.071429  0.928571\n",
      "salesman       0.250000  0.750000\n",
      "scientist      0.096774  0.903226\n",
      "student        0.306122  0.693878\n",
      "technician     0.037037  0.962963\n",
      "writer         0.422222  0.577778\n"
     ]
    }
   ],
   "source": [
    "gender_counts = users.groupby(['occupation', 'gender']).size()\n",
    "total_counts_per_occ = users.groupby('occupation').size()\n",
    "gender_percentage = (gender_counts / total_counts_per_occ).unstack()\n",
    "print(\"\\nPercentage of Men and Women per Occupation:\")\n",
    "print(gender_percentage)"
   ]
  },
  {
   "cell_type": "markdown",
   "id": "d023aab4-ad6b-4301-9289-15515c730643",
   "metadata": {},
   "source": [
    "Question 2"
   ]
  },
  {
   "cell_type": "code",
   "execution_count": 23,
   "id": "fff35ae3-02a4-4821-9b7a-d9ea9cf6b8d8",
   "metadata": {},
   "outputs": [],
   "source": [
    "import pandas as pd\n",
    "\n",
    "url = \"https://raw.githubusercontent.com/guipsamora/pandas_exercises/master/02_Filtering_%26_Sorting/Euro12/Euro_2012_stats_TEAM.csv\"\n",
    "euro12 = pd.read_csv(url)"
   ]
  },
  {
   "cell_type": "code",
   "execution_count": 25,
   "id": "be4df0e3-ac1c-4ecb-aa49-ff7717c30829",
   "metadata": {},
   "outputs": [
    {
     "name": "stdout",
     "output_type": "stream",
     "text": [
      "\n",
      "Goal Column:\n",
      "0      4\n",
      "1      4\n",
      "2      4\n",
      "3      5\n",
      "4      3\n",
      "5     10\n",
      "6      5\n",
      "7      6\n",
      "8      2\n",
      "9      2\n",
      "10     6\n",
      "11     1\n",
      "12     5\n",
      "13    12\n",
      "14     5\n",
      "15     2\n",
      "Name: Goals, dtype: int64\n"
     ]
    }
   ],
   "source": [
    "goal_column = euro12['Goals']\n",
    "print(\"\\nGoal Column:\")\n",
    "print(goal_column)"
   ]
  },
  {
   "cell_type": "code",
   "execution_count": 27,
   "id": "b769f3bb-5f2b-4595-a449-b6165c6019ce",
   "metadata": {},
   "outputs": [
    {
     "name": "stdout",
     "output_type": "stream",
     "text": [
      "\n",
      "Number of Teams Participating in Euro 2012: 16\n"
     ]
    }
   ],
   "source": [
    "num_teams = euro12['Team'].nunique()\n",
    "print(\"\\nNumber of Teams Participating in Euro 2012:\", num_teams)"
   ]
  },
  {
   "cell_type": "code",
   "execution_count": 29,
   "id": "d84340d1-10ed-4b12-8d4d-92f1033d8898",
   "metadata": {},
   "outputs": [
    {
     "name": "stdout",
     "output_type": "stream",
     "text": [
      "\n",
      "Number of Columns in the Dataset: 35\n"
     ]
    }
   ],
   "source": [
    "num_columns = euro12.shape[1]\n",
    "print(\"\\nNumber of Columns in the Dataset:\", num_columns)"
   ]
  },
  {
   "cell_type": "code",
   "execution_count": 31,
   "id": "feec9736-4a01-4ee4-9dd7-f6c50675609f",
   "metadata": {},
   "outputs": [
    {
     "name": "stdout",
     "output_type": "stream",
     "text": [
      "\n",
      "Team, Yellow Cards, and Red Cards:\n",
      "                   Team  Yellow Cards  Red Cards\n",
      "0               Croatia             9          0\n",
      "1        Czech Republic             7          0\n",
      "2               Denmark             4          0\n",
      "3               England             5          0\n",
      "4                France             6          0\n",
      "5               Germany             4          0\n",
      "6                Greece             9          1\n",
      "7                 Italy            16          0\n",
      "8           Netherlands             5          0\n",
      "9                Poland             7          1\n",
      "10             Portugal            12          0\n",
      "11  Republic of Ireland             6          1\n",
      "12               Russia             6          0\n",
      "13                Spain            11          0\n",
      "14               Sweden             7          0\n",
      "15              Ukraine             5          0\n"
     ]
    }
   ],
   "source": [
    "discipline = euro12[['Team', 'Yellow Cards', 'Red Cards']]\n",
    "print(\"\\nTeam, Yellow Cards, and Red Cards:\")\n",
    "print(discipline)"
   ]
  },
  {
   "cell_type": "code",
   "execution_count": 33,
   "id": "bc1cfc8c-489b-4f3d-9dd9-b47f6336c5be",
   "metadata": {},
   "outputs": [
    {
     "name": "stdout",
     "output_type": "stream",
     "text": [
      "\n",
      "Teams Sorted by Red and Yellow Cards:\n",
      "                   Team  Yellow Cards  Red Cards\n",
      "2               Denmark             4          0\n",
      "5               Germany             4          0\n",
      "3               England             5          0\n",
      "8           Netherlands             5          0\n",
      "15              Ukraine             5          0\n",
      "4                France             6          0\n",
      "12               Russia             6          0\n",
      "1        Czech Republic             7          0\n",
      "14               Sweden             7          0\n",
      "0               Croatia             9          0\n",
      "13                Spain            11          0\n",
      "10             Portugal            12          0\n",
      "7                 Italy            16          0\n",
      "11  Republic of Ireland             6          1\n",
      "9                Poland             7          1\n",
      "6                Greece             9          1\n"
     ]
    }
   ],
   "source": [
    "sorted_teams = discipline.sort_values(by=['Red Cards', 'Yellow Cards'], ascending=[True, True])\n",
    "print(\"\\nTeams Sorted by Red and Yellow Cards:\")\n",
    "print(sorted_teams)"
   ]
  },
  {
   "cell_type": "code",
   "execution_count": 35,
   "id": "ba72c4dd-de6e-431d-8dde-0df4a051f2e5",
   "metadata": {},
   "outputs": [
    {
     "name": "stdout",
     "output_type": "stream",
     "text": [
      "\n",
      "Mean Yellow Cards per Team: 7.4375\n"
     ]
    }
   ],
   "source": [
    "mean_yellow_cards = euro12['Yellow Cards'].mean()\n",
    "print(\"\\nMean Yellow Cards per Team:\", mean_yellow_cards)"
   ]
  },
  {
   "cell_type": "code",
   "execution_count": 37,
   "id": "0345ce28-21e0-41d3-9eee-56ad71f5e30b",
   "metadata": {},
   "outputs": [
    {
     "name": "stdout",
     "output_type": "stream",
     "text": [
      "\n",
      "Teams that Scored More than 6 Goals:\n",
      "       Team  Goals\n",
      "5   Germany     10\n",
      "13    Spain     12\n"
     ]
    }
   ],
   "source": [
    "teams_more_than_6_goals = euro12[euro12['Goals'] > 6]\n",
    "print(\"\\nTeams that Scored More than 6 Goals:\")\n",
    "print(teams_more_than_6_goals[['Team', 'Goals']])"
   ]
  },
  {
   "cell_type": "code",
   "execution_count": 39,
   "id": "b0cf7d27-08bf-4def-8ba7-95ae0784d93f",
   "metadata": {},
   "outputs": [
    {
     "name": "stdout",
     "output_type": "stream",
     "text": [
      "\n",
      "Teams Starting with 'G':\n",
      "5    Germany\n",
      "6     Greece\n",
      "Name: Team, dtype: object\n"
     ]
    }
   ],
   "source": [
    "teams_starting_with_G = euro12[euro12['Team'].str.startswith('G')]\n",
    "print(\"\\nTeams Starting with 'G':\")\n",
    "print(teams_starting_with_G['Team'])"
   ]
  },
  {
   "cell_type": "code",
   "execution_count": 41,
   "id": "07110f73-7b5f-48c6-a3f7-8b6d0364f5f2",
   "metadata": {},
   "outputs": [
    {
     "name": "stdout",
     "output_type": "stream",
     "text": [
      "\n",
      "First 7 Columns:\n",
      "                   Team  Goals  Shots on target  Shots off target  \\\n",
      "0               Croatia      4               13                12   \n",
      "1        Czech Republic      4               13                18   \n",
      "2               Denmark      4               10                10   \n",
      "3               England      5               11                18   \n",
      "4                France      3               22                24   \n",
      "5               Germany     10               32                32   \n",
      "6                Greece      5                8                18   \n",
      "7                 Italy      6               34                45   \n",
      "8           Netherlands      2               12                36   \n",
      "9                Poland      2               15                23   \n",
      "10             Portugal      6               22                42   \n",
      "11  Republic of Ireland      1                7                12   \n",
      "12               Russia      5                9                31   \n",
      "13                Spain     12               42                33   \n",
      "14               Sweden      5               17                19   \n",
      "15              Ukraine      2                7                26   \n",
      "\n",
      "   Shooting Accuracy % Goals-to-shots  Total shots (inc. Blocked)  \n",
      "0              51.9%            16.0%                          32  \n",
      "1              41.9%            12.9%                          39  \n",
      "2              50.0%            20.0%                          27  \n",
      "3              50.0%            17.2%                          40  \n",
      "4              37.9%             6.5%                          65  \n",
      "5              47.8%            15.6%                          80  \n",
      "6              30.7%            19.2%                          32  \n",
      "7              43.0%             7.5%                         110  \n",
      "8              25.0%             4.1%                          60  \n",
      "9              39.4%             5.2%                          48  \n",
      "10             34.3%             9.3%                          82  \n",
      "11             36.8%             5.2%                          28  \n",
      "12             22.5%            12.5%                          59  \n",
      "13             55.9%            16.0%                         100  \n",
      "14             47.2%            13.8%                          39  \n",
      "15             21.2%             6.0%                          38  \n"
     ]
    }
   ],
   "source": [
    "first_7_columns = euro12.iloc[:, :7]\n",
    "print(\"\\nFirst 7 Columns:\")\n",
    "print(first_7_columns)"
   ]
  },
  {
   "cell_type": "code",
   "execution_count": 43,
   "id": "9ea043ed-168d-45e4-9b2d-996073b8f407",
   "metadata": {},
   "outputs": [
    {
     "name": "stdout",
     "output_type": "stream",
     "text": [
      "\n",
      "All Columns Except the Last 3:\n",
      "                   Team  Goals  Shots on target  Shots off target  \\\n",
      "0               Croatia      4               13                12   \n",
      "1        Czech Republic      4               13                18   \n",
      "2               Denmark      4               10                10   \n",
      "3               England      5               11                18   \n",
      "4                France      3               22                24   \n",
      "5               Germany     10               32                32   \n",
      "6                Greece      5                8                18   \n",
      "7                 Italy      6               34                45   \n",
      "8           Netherlands      2               12                36   \n",
      "9                Poland      2               15                23   \n",
      "10             Portugal      6               22                42   \n",
      "11  Republic of Ireland      1                7                12   \n",
      "12               Russia      5                9                31   \n",
      "13                Spain     12               42                33   \n",
      "14               Sweden      5               17                19   \n",
      "15              Ukraine      2                7                26   \n",
      "\n",
      "   Shooting Accuracy % Goals-to-shots  Total shots (inc. Blocked)  \\\n",
      "0              51.9%            16.0%                          32   \n",
      "1              41.9%            12.9%                          39   \n",
      "2              50.0%            20.0%                          27   \n",
      "3              50.0%            17.2%                          40   \n",
      "4              37.9%             6.5%                          65   \n",
      "5              47.8%            15.6%                          80   \n",
      "6              30.7%            19.2%                          32   \n",
      "7              43.0%             7.5%                         110   \n",
      "8              25.0%             4.1%                          60   \n",
      "9              39.4%             5.2%                          48   \n",
      "10             34.3%             9.3%                          82   \n",
      "11             36.8%             5.2%                          28   \n",
      "12             22.5%            12.5%                          59   \n",
      "13             55.9%            16.0%                         100   \n",
      "14             47.2%            13.8%                          39   \n",
      "15             21.2%             6.0%                          38   \n",
      "\n",
      "    Hit Woodwork  Penalty goals  Penalties not scored  ...  Clean Sheets  \\\n",
      "0              0              0                     0  ...             0   \n",
      "1              0              0                     0  ...             1   \n",
      "2              1              0                     0  ...             1   \n",
      "3              0              0                     0  ...             2   \n",
      "4              1              0                     0  ...             1   \n",
      "5              2              1                     0  ...             1   \n",
      "6              1              1                     1  ...             1   \n",
      "7              2              0                     0  ...             2   \n",
      "8              2              0                     0  ...             0   \n",
      "9              0              0                     0  ...             0   \n",
      "10             6              0                     0  ...             2   \n",
      "11             0              0                     0  ...             0   \n",
      "12             2              0                     0  ...             0   \n",
      "13             0              1                     0  ...             5   \n",
      "14             3              0                     0  ...             1   \n",
      "15             0              0                     0  ...             0   \n",
      "\n",
      "    Blocks  Goals conceded Saves made  Saves-to-shots ratio  Fouls Won  \\\n",
      "0       10               3         13                 81.3%         41   \n",
      "1       10               6          9                 60.1%         53   \n",
      "2       10               5         10                 66.7%         25   \n",
      "3       29               3         22                 88.1%         43   \n",
      "4        7               5          6                 54.6%         36   \n",
      "5       11               6         10                 62.6%         63   \n",
      "6       23               7         13                 65.1%         67   \n",
      "7       18               7         20                 74.1%        101   \n",
      "8        9               5         12                 70.6%         35   \n",
      "9        8               3          6                 66.7%         48   \n",
      "10      11               4         10                 71.5%         73   \n",
      "11      23               9         17                 65.4%         43   \n",
      "12       8               3         10                 77.0%         34   \n",
      "13       8               1         15                 93.8%        102   \n",
      "14      12               5          8                 61.6%         35   \n",
      "15       4               4         13                 76.5%         48   \n",
      "\n",
      "    Fouls Conceded  Offsides  Yellow Cards  Red Cards  \n",
      "0               62         2             9          0  \n",
      "1               73         8             7          0  \n",
      "2               38         8             4          0  \n",
      "3               45         6             5          0  \n",
      "4               51         5             6          0  \n",
      "5               49        12             4          0  \n",
      "6               48        12             9          1  \n",
      "7               89        16            16          0  \n",
      "8               30         3             5          0  \n",
      "9               56         3             7          1  \n",
      "10              90        10            12          0  \n",
      "11              51        11             6          1  \n",
      "12              43         4             6          0  \n",
      "13              83        19            11          0  \n",
      "14              51         7             7          0  \n",
      "15              31         4             5          0  \n",
      "\n",
      "[16 rows x 32 columns]\n"
     ]
    }
   ],
   "source": [
    "all_but_last_3_columns = euro12.iloc[:, :-3]\n",
    "print(\"\\nAll Columns Except the Last 3:\")\n",
    "print(all_but_last_3_columns)"
   ]
  },
  {
   "cell_type": "code",
   "execution_count": 45,
   "id": "f9ef41b1-c1bd-4489-b480-43a40e6de278",
   "metadata": {},
   "outputs": [
    {
     "name": "stdout",
     "output_type": "stream",
     "text": [
      "\n",
      "Shooting Accuracy for England, Italy, and Russia:\n",
      "       Team Shooting Accuracy\n",
      "3   England             50.0%\n",
      "7     Italy             43.0%\n",
      "12   Russia             22.5%\n"
     ]
    }
   ],
   "source": [
    "shooting_accuracy = euro12[euro12['Team'].isin(['England', 'Italy', 'Russia'])][['Team', 'Shooting Accuracy']]\n",
    "print(\"\\nShooting Accuracy for England, Italy, and Russia:\")\n",
    "print(shooting_accuracy)"
   ]
  },
  {
   "cell_type": "markdown",
   "id": "a87d99a1-cefb-489a-9782-72a1c79a4c81",
   "metadata": {},
   "source": [
    "Question 3"
   ]
  },
  {
   "cell_type": "code",
   "execution_count": 47,
   "id": "6fd76a6b-b0bd-4ba2-a00c-9fa8a810efbb",
   "metadata": {},
   "outputs": [],
   "source": [
    "import pandas as pd\n",
    "import numpy as np\n",
    "\n",
    "series1 = pd.Series(np.random.randint(1, 5, 100))  \n",
    "series2 = pd.Series(np.random.randint(1, 4, 100))  \n",
    "series3 = pd.Series(np.random.randint(10000, 30001, 100))"
   ]
  },
  {
   "cell_type": "code",
   "execution_count": 49,
   "id": "63a5df18-be47-4dc0-b397-689e265c29a2",
   "metadata": {},
   "outputs": [
    {
     "name": "stdout",
     "output_type": "stream",
     "text": [
      "\n",
      "Step 3: DataFrame created by joining the Series:\n",
      "    bedrs  bathrs  price_sqr_meter\n",
      "0       3       2            19835\n",
      "1       2       3            19746\n",
      "2       1       3            19870\n",
      "3       3       1            24509\n",
      "4       4       2            24954\n",
      "..    ...     ...              ...\n",
      "95      1       2            22411\n",
      "96      4       2            12845\n",
      "97      2       3            13232\n",
      "98      2       1            20066\n",
      "99      1       1            17379\n",
      "\n",
      "[100 rows x 3 columns]\n"
     ]
    }
   ],
   "source": [
    "housing_df = pd.DataFrame({'bedrs': series1, 'bathrs': series2, 'price_sqr_meter': series3})\n",
    "print(\"\\nStep 3: DataFrame created by joining the Series:\")\n",
    "print(housing_df)"
   ]
  },
  {
   "cell_type": "code",
   "execution_count": 51,
   "id": "e88cba95-2e0e-4c48-99f7-64fa027d4a4f",
   "metadata": {},
   "outputs": [
    {
     "name": "stdout",
     "output_type": "stream",
     "text": [
      "\n",
      "Step 4: DataFrame with renamed columns:\n",
      "    bedrs  bathrs  price_sqr_meter\n",
      "0       3       2            19835\n",
      "1       2       3            19746\n",
      "2       1       3            19870\n",
      "3       3       1            24509\n",
      "4       4       2            24954\n",
      "..    ...     ...              ...\n",
      "95      1       2            22411\n",
      "96      4       2            12845\n",
      "97      2       3            13232\n",
      "98      2       1            20066\n",
      "99      1       1            17379\n",
      "\n",
      "[100 rows x 3 columns]\n"
     ]
    }
   ],
   "source": [
    "housing_df.columns = ['bedrs', 'bathrs', 'price_sqr_meter']\n",
    "print(\"\\nStep 4: DataFrame with renamed columns:\")\n",
    "print(housing_df)"
   ]
  },
  {
   "cell_type": "code",
   "execution_count": 53,
   "id": "6ec5bc78-5f8f-458a-a093-4f0b78c4e798",
   "metadata": {},
   "outputs": [
    {
     "name": "stdout",
     "output_type": "stream",
     "text": [
      "\n",
      "Step 5: One-column DataFrame (bigcolumn):\n",
      "     bigcolumn\n",
      "0            3\n",
      "1            2\n",
      "2            1\n",
      "3            3\n",
      "4            4\n",
      "..         ...\n",
      "295      22411\n",
      "296      12845\n",
      "297      13232\n",
      "298      20066\n",
      "299      17379\n",
      "\n",
      "[300 rows x 1 columns]\n"
     ]
    }
   ],
   "source": [
    "bigcolumn = pd.concat([series1, series2, series3], axis=0).reset_index(drop=True).to_frame(name='bigcolumn')\n",
    "print(\"\\nStep 5: One-column DataFrame (bigcolumn):\")\n",
    "print(bigcolumn)"
   ]
  },
  {
   "cell_type": "code",
   "execution_count": 55,
   "id": "7b1a8cc5-a834-4d58-934b-947deb2054c7",
   "metadata": {},
   "outputs": [
    {
     "name": "stdout",
     "output_type": "stream",
     "text": [
      "\n",
      "Step 6: Index check for bigcolumn DataFrame:\n",
      "Index range: 0 to 299\n"
     ]
    }
   ],
   "source": [
    "print(\"\\nStep 6: Index check for bigcolumn DataFrame:\")\n",
    "print(f\"Index range: {bigcolumn.index.min()} to {bigcolumn.index.max()}\")"
   ]
  },
  {
   "cell_type": "code",
   "execution_count": 57,
   "id": "bfaa42c1-05a9-4815-bfcb-401b7a62debb",
   "metadata": {},
   "outputs": [
    {
     "name": "stdout",
     "output_type": "stream",
     "text": [
      "\n",
      "Step 7: Reindexed DataFrame (bigcolumn):\n",
      "     bigcolumn\n",
      "0            3\n",
      "1            2\n",
      "2            1\n",
      "3            3\n",
      "4            4\n",
      "..         ...\n",
      "295      22411\n",
      "296      12845\n",
      "297      13232\n",
      "298      20066\n",
      "299      17379\n",
      "\n",
      "[300 rows x 1 columns]\n"
     ]
    }
   ],
   "source": [
    "bigcolumn_reindexed = bigcolumn.reindex(range(300)).reset_index(drop=True)\n",
    "print(\"\\nStep 7: Reindexed DataFrame (bigcolumn):\")\n",
    "print(bigcolumn_reindexed)"
   ]
  },
  {
   "cell_type": "markdown",
   "id": "9e83f74e-130d-4a99-83e0-4c0b9d94dc2e",
   "metadata": {},
   "source": [
    "Question 4"
   ]
  },
  {
   "cell_type": "code",
   "execution_count": 143,
   "id": "fb49caad-3859-4183-8eb5-f258f65f90ad",
   "metadata": {},
   "outputs": [],
   "source": [
    "import pandas as pd\n",
    "import numpy as np\n",
    "\n",
    "# Step 2: Import the dataset\n",
    "file_path = r\"C:\\Users\\HP\\Desktop\\Problem set 3\\wind.txt\"\n",
    "column_names = ['Yr', 'Mo', 'Dy', 'RPT', 'VAL', 'ROS', 'KIL', 'SHA', 'BIR', \n",
    "                'DUB', 'CLA', 'MUL', 'CLO', 'BEL', 'MAL']\n",
    "data = pd.read_csv(file_path, sep=r'\\s+', names=column_names, header=0)"
   ]
  },
  {
   "cell_type": "code",
   "execution_count": 145,
   "id": "0e2ecbc5-b7dc-4c79-8ed6-4444687b9c13",
   "metadata": {},
   "outputs": [],
   "source": [
    "data['Date'] = pd.to_datetime(dict(year=data['Yr'] + 1900, month=data['Mo'], day=data['Dy']))\n",
    "data.set_index('Date', inplace=True)\n",
    "data.drop(columns=['Yr', 'Mo', 'Dy'], inplace=True)"
   ]
  },
  {
   "cell_type": "code",
   "execution_count": 147,
   "id": "b379c485-28f7-4a6f-a7f5-25e8f76d19ca",
   "metadata": {},
   "outputs": [],
   "source": [
    "data.index = data.index.where(data.index.year <= 2000, data.index - pd.DateOffset(years=100))"
   ]
  },
  {
   "cell_type": "code",
   "execution_count": 153,
   "id": "98e7d7e8-5ee6-49a1-927a-1a204f401c17",
   "metadata": {},
   "outputs": [
    {
     "name": "stdout",
     "output_type": "stream",
     "text": [
      "datetime64[ns]\n"
     ]
    }
   ],
   "source": [
    "data.index = pd.to_datetime(data.index)\n",
    "print(data.index.dtype)"
   ]
  },
  {
   "cell_type": "code",
   "execution_count": 151,
   "id": "89bedce8-21d9-47ff-b3b9-7c538674fa04",
   "metadata": {},
   "outputs": [
    {
     "name": "stdout",
     "output_type": "stream",
     "text": [
      "\n",
      "Step 6: Missing Values for Each Location:\n",
      "RPT    6\n",
      "VAL    3\n",
      "ROS    2\n",
      "KIL    5\n",
      "SHA    2\n",
      "BIR    0\n",
      "DUB    3\n",
      "CLA    2\n",
      "MUL    3\n",
      "CLO    1\n",
      "BEL    0\n",
      "MAL    4\n",
      "dtype: int64\n"
     ]
    }
   ],
   "source": [
    "missing_values = data.isnull().sum()\n",
    "print(\"\\nStep 6: Missing Values for Each Location:\")\n",
    "print(missing_values)"
   ]
  },
  {
   "cell_type": "code",
   "execution_count": 155,
   "id": "deaa417d-7e3e-43a7-9e64-4d7accef2b38",
   "metadata": {},
   "outputs": [
    {
     "name": "stdout",
     "output_type": "stream",
     "text": [
      "\n",
      "Step 7: Total Non-Missing Values: 78857\n"
     ]
    }
   ],
   "source": [
    "total_non_missing = data.notnull().sum().sum()\n",
    "print(\"\\nStep 7: Total Non-Missing Values:\", total_non_missing)"
   ]
  },
  {
   "cell_type": "code",
   "execution_count": 157,
   "id": "808f9a9b-c13f-4aa8-8fea-ba2e0294434d",
   "metadata": {},
   "outputs": [
    {
     "name": "stdout",
     "output_type": "stream",
     "text": [
      "\n",
      "Step 8: Mean Windspeed (Overall): 10.227982360836938\n"
     ]
    }
   ],
   "source": [
    "mean_windspeed = data.mean().mean()\n",
    "print(\"\\nStep 8: Mean Windspeed (Overall):\", mean_windspeed)"
   ]
  },
  {
   "cell_type": "code",
   "execution_count": 159,
   "id": "27f037b9-c6f8-4a7e-8d85-e55890127752",
   "metadata": {},
   "outputs": [
    {
     "name": "stdout",
     "output_type": "stream",
     "text": [
      "\n",
      "Step 9: Location Stats (Min, Max, Mean, Std):\n",
      "      min    max       mean       std\n",
      "RPT  0.67  35.80  12.362987  5.618413\n",
      "VAL  0.21  33.37  10.644314  5.267356\n",
      "ROS  1.50  33.84  11.660526  5.008450\n",
      "KIL  0.00  28.46   6.306468  3.605811\n",
      "SHA  0.13  37.54  10.455834  4.936125\n",
      "BIR  0.00  26.16   7.092254  3.968683\n",
      "DUB  0.00  30.37   9.797343  4.977555\n",
      "CLA  0.00  31.08   8.495053  4.499449\n",
      "MUL  0.00  25.88   8.493590  4.166872\n",
      "CLO  0.04  28.21   8.707332  4.503954\n",
      "BEL  0.13  42.38  13.121007  5.835037\n",
      "MAL  0.67  42.54  15.599079  6.699794\n"
     ]
    }
   ],
   "source": [
    "loc_stats = data.describe().T[['min', 'max', 'mean', 'std']]\n",
    "print(\"\\nStep 9: Location Stats (Min, Max, Mean, Std):\")\n",
    "print(loc_stats)"
   ]
  },
  {
   "cell_type": "code",
   "execution_count": 162,
   "id": "8751a367-0e1f-40a2-a496-7ddd7f0182bc",
   "metadata": {},
   "outputs": [
    {
     "name": "stdout",
     "output_type": "stream",
     "text": [
      "\n",
      "Step 10: Day Stats (Min, Max, Mean, Std per Day):\n",
      "             min    max       mean       std\n",
      "Date                                        \n",
      "1961-01-01  9.29  18.50  13.018182  2.808875\n",
      "1961-01-02  6.50  17.54  11.336364  3.188994\n",
      "1961-01-03  6.17  18.50  11.641818  3.681912\n",
      "1961-01-04  1.79  11.75   6.619167  3.198126\n",
      "1961-01-05  6.17  13.33  10.630000  2.445356\n"
     ]
    }
   ],
   "source": [
    "day_stats = data.aggregate(['min', 'max', 'mean', 'std'], axis=1)\n",
    "print(\"\\nStep 10: Day Stats (Min, Max, Mean, Std per Day):\")\n",
    "print(day_stats.head())"
   ]
  },
  {
   "cell_type": "code",
   "execution_count": 164,
   "id": "ee755997-750b-49db-aa30-f6386d5c1019",
   "metadata": {},
   "outputs": [
    {
     "name": "stdout",
     "output_type": "stream",
     "text": [
      "\n",
      "Step 11: Average Windspeed in January (Per Location):\n",
      "RPT    14.847325\n",
      "VAL    12.914560\n",
      "ROS    13.299624\n",
      "KIL     7.199498\n",
      "SHA    11.667734\n",
      "BIR     8.054839\n",
      "DUB    11.819355\n",
      "CLA     9.512047\n",
      "MUL     9.543208\n",
      "CLO    10.053566\n",
      "BEL    14.550520\n",
      "MAL    18.028763\n",
      "dtype: float64\n"
     ]
    }
   ],
   "source": [
    "january_avg = data[data.index.month == 1].mean()\n",
    "print(\"\\nStep 11: Average Windspeed in January (Per Location):\")\n",
    "print(january_avg)"
   ]
  },
  {
   "cell_type": "code",
   "execution_count": 168,
   "id": "5967bfe1-3938-4c6b-b143-1d9cde72a096",
   "metadata": {},
   "outputs": [
    {
     "name": "stdout",
     "output_type": "stream",
     "text": [
      "\n",
      "Step 12: Yearly Average Windspeed (Per Location):\n",
      "                  RPT        VAL        ROS       KIL        SHA       BIR  \\\n",
      "Date                                                                         \n",
      "1961-12-31  12.299583  10.351796  11.362369  6.958227  10.881763  7.729726   \n",
      "1962-12-31  12.246923  10.110438  11.732712  6.960440  10.657918  7.393068   \n",
      "1963-12-31  12.813452  10.836986  12.541151  7.330055  11.724110  8.434712   \n",
      "1964-12-31  12.363661  10.920164  12.104372  6.787787  11.454481  7.570874   \n",
      "1965-12-31  12.451370  11.075534  11.848767  6.858466  11.024795  7.478110   \n",
      "1966-12-31  13.461973  11.557205  12.020630  7.345726  11.805041  7.793671   \n",
      "1967-12-31  12.737151  10.990986  11.739397  7.143425  11.630740  7.368164   \n",
      "1968-12-31  11.835628  10.468197  11.409754  6.477678  10.760765  6.067322   \n",
      "1969-12-31  11.166356   9.723699  10.902000  5.767973   9.873918  6.189973   \n",
      "1970-12-31  12.600329  10.726932  11.730247  6.217178  10.567370  7.609452   \n",
      "1971-12-31  11.273123   9.095178  11.088329  5.241507   9.440329  6.097151   \n",
      "1972-12-31  12.463962  10.561311  12.058333  5.929699   9.430410  6.358825   \n",
      "1973-12-31  11.828466  10.680493  10.680493  5.547863   9.640877  6.548740   \n",
      "1974-12-31  13.643096  11.811781  12.336356  6.427041  11.110986  6.809781   \n",
      "1975-12-31  12.008575  10.293836  11.564712  5.269096   9.190082  5.668521   \n",
      "1976-12-31  11.737842  10.203115  10.761230  5.109426   8.846339  6.311038   \n",
      "1977-12-31  13.099616  11.144493  12.627836  6.073945  10.003836  8.586438   \n",
      "1978-12-31  12.504356  11.044274  11.380000  6.082356  10.167233  7.650658   \n",
      "\n",
      "                  DUB        CLA       MUL        CLO        BEL        MAL  \n",
      "Date                                                                         \n",
      "1961-12-31   9.733923   8.858788  8.647652   9.835577  13.502795  13.680773  \n",
      "1962-12-31  11.020712   8.793753  8.316822   9.676247  12.930685  14.323956  \n",
      "1963-12-31  11.075699  10.336548  8.903589  10.224438  13.638877  14.999014  \n",
      "1964-12-31  10.259153   9.467350  7.789016  10.207951  13.740546  14.910301  \n",
      "1965-12-31  10.618712   8.879918  7.907425   9.918082  12.964247  15.591644  \n",
      "1966-12-31  10.579808   8.835096  8.514438   9.768959  14.265836  16.307260  \n",
      "1967-12-31  10.652027   9.325616  8.645014   9.547425  14.774548  17.135945  \n",
      "1968-12-31   8.859180   8.255519  7.224945   7.832978  12.808634  15.017486  \n",
      "1969-12-31   8.564493   7.711397  7.924521   7.754384  12.621233  15.762904  \n",
      "1970-12-31   9.609890   8.334630  9.297616   8.289808  13.183644  16.456027  \n",
      "1971-12-31   8.385890   6.757315  7.915370   7.229753  12.208932  15.025233  \n",
      "1972-12-31   9.704508   7.680792  8.357295   7.515273  12.727377  15.028716  \n",
      "1973-12-31   8.482110   7.614274  8.245534   7.812411  12.169699  15.441096  \n",
      "1974-12-31  10.084603   9.896986  9.331753   8.736356  13.252959  16.947671  \n",
      "1975-12-31   8.562603   7.843836  8.797945   7.382822  12.631671  15.307863  \n",
      "1976-12-31   9.149126   7.146202  8.883716   7.883087  12.332377  15.471448  \n",
      "1977-12-31  11.523205   8.378384  9.098192   8.821616  13.459068  16.590849  \n",
      "1978-12-31   9.489342   8.800466  9.089753   8.301699  12.967397  16.771370  \n"
     ]
    }
   ],
   "source": [
    "yearly_data = data.resample('YE').mean()\n",
    "print(\"\\nStep 12: Yearly Average Windspeed (Per Location):\")\n",
    "print(yearly_data)"
   ]
  },
  {
   "cell_type": "code",
   "execution_count": 172,
   "id": "a2b79262-287b-468c-a642-ddbb53ff4ee0",
   "metadata": {},
   "outputs": [
    {
     "name": "stdout",
     "output_type": "stream",
     "text": [
      "\n",
      "Step 13: Monthly Average Windspeed (Per Location):\n",
      "                  RPT        VAL        ROS       KIL        SHA        BIR  \\\n",
      "Date                                                                          \n",
      "1961-01-31  14.841333  11.988333  13.431613  7.736774  11.072759   8.588065   \n",
      "1961-02-28  16.269286  14.975357  14.441481  9.230741  13.852143  10.937500   \n",
      "1961-03-31  10.890000  11.296452  10.752903  7.284000  10.509355   8.866774   \n",
      "1961-04-30  10.722667   9.427667   9.998000  5.830667   8.435000   6.495000   \n",
      "1961-05-31   9.860968   8.850000  10.818065  5.905333   9.490323   6.574839   \n",
      "...               ...        ...        ...       ...        ...        ...   \n",
      "1978-08-31   9.645161   8.259355   9.032258  4.502903   7.368065   5.935161   \n",
      "1978-09-30  10.913667  10.895000  10.635000  5.725000  10.372000   9.278333   \n",
      "1978-10-31   9.897742   8.670968   9.295806  4.721290   8.525161   6.774194   \n",
      "1978-11-30  16.151667  14.802667  13.508000  7.317333  11.475000   8.743000   \n",
      "1978-12-31  16.175484  13.748065  15.635161  7.094839  11.398710   9.241613   \n",
      "\n",
      "                  DUB        CLA        MUL        CLO        BEL        MAL  \n",
      "Date                                                                          \n",
      "1961-01-31  11.184839   9.245333   9.085806  10.107419  13.880968  14.703226  \n",
      "1961-02-28  11.890714  11.846071  11.821429  12.714286  18.583214  15.411786  \n",
      "1961-03-31   9.644194   9.829677  10.294138  11.251935  16.410968  15.720000  \n",
      "1961-04-30   6.925333   7.094667   7.342333   7.237000  11.147333  10.278333  \n",
      "1961-05-31   7.604000   8.177097   8.039355   8.499355  11.900323  12.011613  \n",
      "...               ...        ...        ...        ...        ...        ...  \n",
      "1978-08-31   5.650323   5.417742   7.241290   5.536774  10.466774  12.054194  \n",
      "1978-09-30  10.790333   9.583000  10.069333   8.939000  15.680333  19.391333  \n",
      "1978-10-31   8.115484   7.337742   8.297742   8.243871  13.776774  17.150000  \n",
      "1978-11-30  11.492333   9.657333  10.701333  10.676000  17.404667  20.723000  \n",
      "1978-12-31  12.077419  10.194839  10.616774  11.028710  13.859677  21.371613  \n",
      "\n",
      "[216 rows x 12 columns]\n"
     ]
    }
   ],
   "source": [
    "monthly_data = data.resample('ME').mean()\n",
    "print(\"\\nStep 13: Monthly Average Windspeed (Per Location):\")\n",
    "print(monthly_data)"
   ]
  },
  {
   "cell_type": "code",
   "execution_count": 174,
   "id": "08f4d899-881d-479c-ac3e-f8565b63839d",
   "metadata": {},
   "outputs": [
    {
     "name": "stdout",
     "output_type": "stream",
     "text": [
      "\n",
      "Step 14: Weekly Average Windspeed (Per Location):\n",
      "                  RPT        VAL        ROS        KIL        SHA        BIR  \\\n",
      "Date                                                                           \n",
      "1961-01-01  15.040000  14.960000  13.170000   9.290000        NaN   9.870000   \n",
      "1961-01-08  13.541429  11.486667  10.487143   6.417143   9.474286   6.435714   \n",
      "1961-01-15  12.468571   8.967143  11.958571   4.630000   7.351429   5.072857   \n",
      "1961-01-22  13.204286   9.862857  12.982857   6.328571   8.966667   7.417143   \n",
      "1961-01-29  19.880000  16.141429  18.225714  12.720000  17.432857  14.828571   \n",
      "...               ...        ...        ...        ...        ...        ...   \n",
      "1978-12-03  14.934286  11.232857  13.941429   5.565714  10.215714   8.618571   \n",
      "1978-12-10  20.740000  19.190000  17.034286   9.777143  15.287143  12.774286   \n",
      "1978-12-17  16.758571  14.692857  14.987143   6.917143  11.397143   7.272857   \n",
      "1978-12-24  11.155714   8.008571  13.172857   4.004286   7.825714   6.290000   \n",
      "1978-12-31  14.951429  11.801429  16.035714   6.507143   9.660000   8.620000   \n",
      "\n",
      "                  DUB        CLA        MUL        CLO        BEL        MAL  \n",
      "Date                                                                          \n",
      "1961-01-01  13.670000  10.250000  10.830000  12.580000  18.500000  15.040000  \n",
      "1961-01-08  11.061429   6.616667   8.434286   8.497143  12.481429  13.238571  \n",
      "1961-01-15   7.535714   6.820000   5.712857   7.571429  11.125714  11.024286  \n",
      "1961-01-22   9.257143   7.875714   7.145714   8.124286   9.821429  11.434286  \n",
      "1961-01-29  15.528571  15.160000  14.480000  15.640000  20.930000  22.530000  \n",
      "...               ...        ...        ...        ...        ...        ...  \n",
      "1978-12-03   9.642857   7.685714   9.011429   9.547143  11.835714  18.728571  \n",
      "1978-12-10  14.437143  12.488571  13.870000  14.082857  18.517143  23.061429  \n",
      "1978-12-17  10.208571   7.967143   9.168571   8.565714  11.102857  15.562857  \n",
      "1978-12-24   7.798571   8.667143   7.151429   8.072857  11.845714  18.977143  \n",
      "1978-12-31  13.708571  10.477143  10.868571  11.471429  12.947143  26.844286  \n",
      "\n",
      "[940 rows x 12 columns]\n"
     ]
    }
   ],
   "source": [
    "weekly_data = data.resample('W').mean()\n",
    "print(\"\\nStep 14: Weekly Average Windspeed (Per Location):\")\n",
    "print(weekly_data)"
   ]
  },
  {
   "cell_type": "code",
   "execution_count": 176,
   "id": "7f1d3ba5-cd6b-42ef-8439-ae426ee79fc7",
   "metadata": {},
   "outputs": [
    {
     "name": "stdout",
     "output_type": "stream",
     "text": [
      "\n",
      "Step 15: Weekly Stats (First 52 Weeks):\n",
      "                  min        max       mean       std\n",
      "Date                                                 \n",
      "1961-01-01   9.290000  18.500000  13.018182  2.808875\n",
      "1961-01-08   6.417143  13.541429   9.847659  2.601705\n",
      "1961-01-15   4.630000  12.468571   8.353214  2.719649\n",
      "1961-01-22   6.328571  13.204286   9.368413  2.224531\n",
      "1961-01-29  12.720000  22.530000  16.958095  2.915635\n",
      "1961-02-05   8.247143  16.827143  11.800357  2.807310\n",
      "1961-02-12  10.774286  21.832857  15.891548  3.147412\n",
      "1961-02-19   9.542857  21.167143  13.726825  3.105819\n",
      "1961-02-26   8.524286  16.304286  12.604286  2.364323\n",
      "1961-03-05   7.834286  17.842857  11.766766  2.535336\n",
      "1961-03-12   6.881429  16.701429  10.612579  2.746233\n",
      "1961-03-19   7.084286  19.350000  11.756310  3.320318\n",
      "1961-03-26   6.648571  18.134286  10.462857  3.071975\n",
      "1961-04-02   7.300000  13.900000  10.268433  1.883742\n",
      "1961-04-09   5.958571  13.607143   9.412381  2.399840\n",
      "1961-04-16   4.947143   9.482857   6.845595  1.803831\n",
      "1961-04-23   7.768571  13.620000  10.146667  1.895943\n",
      "1961-04-30   4.801429  10.117143   7.445000  1.864130\n",
      "1961-05-07   9.952857  17.548571  13.164048  2.223149\n",
      "1961-05-14   5.295714  10.421429   8.059802  1.491250\n",
      "1961-05-21   4.258571  12.042857   7.470258  2.327906\n",
      "1961-05-28   3.748333  11.697143   7.177956  2.370473\n",
      "1961-06-04   6.310000  13.597143   9.244643  2.167131\n",
      "1961-06-11   5.214286  12.250000   8.459048  2.136900\n",
      "1961-06-18   6.520000  15.351429  10.173810  2.676791\n",
      "1961-06-25   5.478571  17.410000  10.066548  3.494271\n",
      "1961-07-02   6.507143  14.535714   9.528810  2.311594\n",
      "1961-07-09   7.220000  15.987143  10.580099  2.505843\n",
      "1961-07-16   8.412857  16.680000  11.666190  2.483875\n",
      "1961-07-23   2.715714   8.415714   5.350952  1.726225\n",
      "1961-07-30   5.727143  13.761429   9.431071  2.279097\n",
      "1961-08-06   6.238571  13.760000   9.446786  2.099734\n",
      "1961-08-13   5.078571  10.934286   8.199206  1.855421\n",
      "1961-08-20   8.600000  16.626667  12.668413  2.466378\n",
      "1961-08-27   7.108571  16.485714  12.061786  2.649263\n",
      "1961-09-03   5.642857  13.664286   8.437381  2.300787\n",
      "1961-09-10   5.685714  11.034286   8.186786  1.866173\n",
      "1961-09-17  10.442857  19.878571  14.510833  3.058931\n",
      "1961-09-24   4.851667  11.018571   7.247937  1.958569\n",
      "1961-10-01   8.370000  16.208571  11.771091  2.750518\n",
      "1961-10-08   5.262857  11.410000   8.034167  2.148981\n",
      "1961-10-15   6.578571  15.260000   9.828115  2.680505\n",
      "1961-10-22  10.721429  23.641429  15.479643  3.509702\n",
      "1961-10-29   8.408571  18.404286  12.688631  3.139748\n",
      "1961-11-05   7.541429  19.195714  11.612857  3.253959\n",
      "1961-11-12   4.220000  10.858571   7.487262  2.516385\n",
      "1961-11-19   4.501429  16.988571   7.647024  3.534858\n",
      "1961-11-26   4.970000  12.732857   8.755516  2.472631\n",
      "1961-12-03   6.245714  14.725714   9.754762  2.724343\n",
      "1961-12-10   8.624286  17.362857  13.145357  2.904971\n",
      "1961-12-17   8.697143  15.112857  12.703095  2.110713\n",
      "1961-12-24   5.517143  15.757143   9.315714  3.174787\n"
     ]
    }
   ],
   "source": [
    "weekly_stats = weekly_data[:52].aggregate(['min', 'max', 'mean', 'std'], axis=1)\n",
    "print(\"\\nStep 15: Weekly Stats (First 52 Weeks):\")\n",
    "print(weekly_stats)"
   ]
  },
  {
   "cell_type": "markdown",
   "id": "1bd56e52-e7c2-4a64-af33-c048d44230d4",
   "metadata": {},
   "source": [
    "Question 5"
   ]
  },
  {
   "cell_type": "code",
   "execution_count": 81,
   "id": "3716419d-5049-48fe-b2b9-ac26e6e0b6cb",
   "metadata": {},
   "outputs": [],
   "source": [
    "import pandas as pd\n",
    "\n",
    "url = \"https://raw.githubusercontent.com/justmarkham/DAT8/master/data/chipotle.tsv\"\n",
    "chipo = pd.read_csv(url, sep='\\t')"
   ]
  },
  {
   "cell_type": "code",
   "execution_count": 83,
   "id": "734ff744-ea3f-48fc-972c-3c9b1f80c1a0",
   "metadata": {},
   "outputs": [
    {
     "name": "stdout",
     "output_type": "stream",
     "text": [
      "\n",
      "Step 4: First 10 Entries:\n",
      "   order_id  quantity                              item_name  \\\n",
      "0         1         1           Chips and Fresh Tomato Salsa   \n",
      "1         1         1                                   Izze   \n",
      "2         1         1                       Nantucket Nectar   \n",
      "3         1         1  Chips and Tomatillo-Green Chili Salsa   \n",
      "4         2         2                           Chicken Bowl   \n",
      "5         3         1                           Chicken Bowl   \n",
      "6         3         1                          Side of Chips   \n",
      "7         4         1                          Steak Burrito   \n",
      "8         4         1                       Steak Soft Tacos   \n",
      "9         5         1                          Steak Burrito   \n",
      "\n",
      "                                  choice_description item_price  \n",
      "0                                                NaN     $2.39   \n",
      "1                                       [Clementine]     $3.39   \n",
      "2                                            [Apple]     $3.39   \n",
      "3                                                NaN     $2.39   \n",
      "4  [Tomatillo-Red Chili Salsa (Hot), [Black Beans...    $16.98   \n",
      "5  [Fresh Tomato Salsa (Mild), [Rice, Cheese, Sou...    $10.98   \n",
      "6                                                NaN     $1.69   \n",
      "7  [Tomatillo Red Chili Salsa, [Fajita Vegetables...    $11.75   \n",
      "8  [Tomatillo Green Chili Salsa, [Pinto Beans, Ch...     $9.25   \n",
      "9  [Fresh Tomato Salsa, [Rice, Black Beans, Pinto...     $9.25   \n"
     ]
    }
   ],
   "source": [
    "print(\"\\nStep 4: First 10 Entries:\")\n",
    "print(chipo.head(10))"
   ]
  },
  {
   "cell_type": "code",
   "execution_count": 85,
   "id": "ae6ab6eb-7704-4c80-9129-4af16c876422",
   "metadata": {},
   "outputs": [
    {
     "name": "stdout",
     "output_type": "stream",
     "text": [
      "\n",
      "Step 5: Number of Observations: 4622\n"
     ]
    }
   ],
   "source": [
    "num_observations = chipo.shape[0]\n",
    "print(\"\\nStep 5: Number of Observations:\", num_observations)"
   ]
  },
  {
   "cell_type": "code",
   "execution_count": 87,
   "id": "894e28d4-c4a7-428f-9e1f-15607a5f143d",
   "metadata": {},
   "outputs": [
    {
     "name": "stdout",
     "output_type": "stream",
     "text": [
      "\n",
      "Step 6: Number of Columns: 5\n"
     ]
    }
   ],
   "source": [
    "num_columns = chipo.shape[1]\n",
    "print(\"\\nStep 6: Number of Columns:\", num_columns)"
   ]
  },
  {
   "cell_type": "code",
   "execution_count": 89,
   "id": "1515eea5-f91f-4058-af22-09b788b3639a",
   "metadata": {},
   "outputs": [
    {
     "name": "stdout",
     "output_type": "stream",
     "text": [
      "\n",
      "Step 7: Column Names:\n",
      "Index(['order_id', 'quantity', 'item_name', 'choice_description',\n",
      "       'item_price'],\n",
      "      dtype='object')\n"
     ]
    }
   ],
   "source": [
    "print(\"\\nStep 7: Column Names:\")\n",
    "print(chipo.columns)"
   ]
  },
  {
   "cell_type": "code",
   "execution_count": 91,
   "id": "f108c280-1b5f-494c-ac35-196714969c69",
   "metadata": {},
   "outputs": [
    {
     "name": "stdout",
     "output_type": "stream",
     "text": [
      "\n",
      "Step 8: Dataset Index:\n",
      "RangeIndex(start=0, stop=4622, step=1)\n"
     ]
    }
   ],
   "source": [
    "print(\"\\nStep 8: Dataset Index:\")\n",
    "print(chipo.index)"
   ]
  },
  {
   "cell_type": "code",
   "execution_count": 93,
   "id": "b25101cd-e848-446d-a592-70fbb788614b",
   "metadata": {},
   "outputs": [
    {
     "name": "stdout",
     "output_type": "stream",
     "text": [
      "\n",
      "Step 9: Most Ordered Item:\n",
      "              order_id  quantity  \\\n",
      "item_name                          \n",
      "Chicken Bowl    713926       761   \n",
      "\n",
      "                                             choice_description  \\\n",
      "item_name                                                         \n",
      "Chicken Bowl  [Tomatillo-Red Chili Salsa (Hot), [Black Beans...   \n",
      "\n",
      "                                                     item_price  \n",
      "item_name                                                        \n",
      "Chicken Bowl  $16.98 $10.98 $11.25 $8.75 $8.49 $11.25 $8.75 ...  \n"
     ]
    }
   ],
   "source": [
    "most_ordered_item = chipo.groupby('item_name').sum().sort_values('quantity', ascending=False).head(1)\n",
    "print(\"\\nStep 9: Most Ordered Item:\")\n",
    "print(most_ordered_item)"
   ]
  },
  {
   "cell_type": "code",
   "execution_count": 95,
   "id": "c5399f69-9956-4805-9db8-25e7576cd507",
   "metadata": {},
   "outputs": [
    {
     "name": "stdout",
     "output_type": "stream",
     "text": [
      "\n",
      "Step 10: Quantity of Most Ordered Item: 761\n"
     ]
    }
   ],
   "source": [
    "most_ordered_quantity = most_ordered_item['quantity'].values[0]\n",
    "print(\"\\nStep 10: Quantity of Most Ordered Item:\", most_ordered_quantity)"
   ]
  },
  {
   "cell_type": "code",
   "execution_count": 97,
   "id": "f798777e-1174-4980-961d-0e821855d301",
   "metadata": {},
   "outputs": [
    {
     "name": "stdout",
     "output_type": "stream",
     "text": [
      "\n",
      "Step 11: Most Ordered Item in Choice Description:\n",
      "                    order_id  quantity  \\\n",
      "choice_description                       \n",
      "[Diet Coke]           123455       159   \n",
      "\n",
      "                                                            item_name  \\\n",
      "choice_description                                                      \n",
      "[Diet Coke]         Canned SodaCanned SodaCanned Soda6 Pack Soft D...   \n",
      "\n",
      "                                                           item_price  \n",
      "choice_description                                                     \n",
      "[Diet Coke]         $2.18 $1.09 $1.09 $6.49 $2.18 $1.25 $1.09 $6.4...  \n"
     ]
    }
   ],
   "source": [
    "most_ordered_choice = chipo.groupby('choice_description').sum().sort_values('quantity', ascending=False).head(1)\n",
    "print(\"\\nStep 11: Most Ordered Item in Choice Description:\")\n",
    "print(most_ordered_choice)"
   ]
  },
  {
   "cell_type": "code",
   "execution_count": 99,
   "id": "c7d24f68-b19d-48a5-b9f8-1d306cf460da",
   "metadata": {},
   "outputs": [
    {
     "name": "stdout",
     "output_type": "stream",
     "text": [
      "\n",
      "Step 12: Total Items Ordered: 4972\n"
     ]
    }
   ],
   "source": [
    "total_items_ordered = chipo['quantity'].sum()\n",
    "print(\"\\nStep 12: Total Items Ordered:\", total_items_ordered)"
   ]
  },
  {
   "cell_type": "code",
   "execution_count": 101,
   "id": "22b4d964-776b-4e76-b1d7-90590cd31248",
   "metadata": {},
   "outputs": [],
   "source": [
    "chipo['item_price'] = chipo['item_price'].str.replace('$', '').astype(float)"
   ]
  },
  {
   "cell_type": "code",
   "execution_count": 103,
   "id": "f65714ca-7a68-48d3-9d72-bad4da082886",
   "metadata": {},
   "outputs": [
    {
     "name": "stdout",
     "output_type": "stream",
     "text": [
      "\n",
      "Step 13: Item Price Type after Conversion: float64\n"
     ]
    }
   ],
   "source": [
    "print(\"\\nStep 13: Item Price Type after Conversion:\", chipo['item_price'].dtype)"
   ]
  },
  {
   "cell_type": "code",
   "execution_count": 105,
   "id": "a3d4e536-bdf3-4ac7-ae36-7398cf3035dc",
   "metadata": {},
   "outputs": [
    {
     "name": "stdout",
     "output_type": "stream",
     "text": [
      "\n",
      "Step 14: Total Revenue: 39237.02\n"
     ]
    }
   ],
   "source": [
    "chipo['revenue'] = chipo['quantity'] * chipo['item_price']\n",
    "total_revenue = chipo['revenue'].sum()\n",
    "print(\"\\nStep 14: Total Revenue:\", total_revenue)"
   ]
  },
  {
   "cell_type": "code",
   "execution_count": 107,
   "id": "2dfd565c-457a-4d17-aa27-deadc0b8f6b4",
   "metadata": {},
   "outputs": [
    {
     "name": "stdout",
     "output_type": "stream",
     "text": [
      "\n",
      "Step 15: Total Orders: 1834\n"
     ]
    }
   ],
   "source": [
    "total_orders = chipo['order_id'].nunique()\n",
    "print(\"\\nStep 15: Total Orders:\", total_orders)"
   ]
  },
  {
   "cell_type": "code",
   "execution_count": 109,
   "id": "65777030-062a-4b9b-9106-014a73619c18",
   "metadata": {},
   "outputs": [
    {
     "name": "stdout",
     "output_type": "stream",
     "text": [
      "\n",
      "Step 16: Average Revenue per Order: 21.39423118865867\n"
     ]
    }
   ],
   "source": [
    "average_revenue_per_order = total_revenue / total_orders\n",
    "print(\"\\nStep 16: Average Revenue per Order:\", average_revenue_per_order)"
   ]
  },
  {
   "cell_type": "code",
   "execution_count": 111,
   "id": "ccead75d-74bb-4027-a3e5-ec1c923289e3",
   "metadata": {},
   "outputs": [
    {
     "name": "stdout",
     "output_type": "stream",
     "text": [
      "\n",
      "Step 17: Number of Different Items Sold: 50\n"
     ]
    }
   ],
   "source": [
    "num_different_items = chipo['item_name'].nunique()\n",
    "print(\"\\nStep 17: Number of Different Items Sold:\", num_different_items)"
   ]
  },
  {
   "cell_type": "markdown",
   "id": "bf686774-b0e7-4320-8ddf-994c014c385f",
   "metadata": {},
   "source": [
    "Question 6"
   ]
  },
  {
   "cell_type": "code",
   "execution_count": 113,
   "id": "f0de18ad-eea2-4d45-8b4a-644d13ecb16c",
   "metadata": {},
   "outputs": [],
   "source": [
    "import pandas as pd\n",
    "import matplotlib.pyplot as plt\n",
    "\n",
    "file_path = r\"C:\\Users\\HP\\Desktop\\Problem set 3\\us-marriages-divorces-1867-2014.csv\"\n",
    "data = pd.read_csv(file_path)"
   ]
  },
  {
   "cell_type": "code",
   "execution_count": 119,
   "id": "f5007d66-1fe9-4629-b095-578c4011e9a9",
   "metadata": {},
   "outputs": [
    {
     "data": {
      "image/png": "[encoded data removed]",
      "text/plain": [
       "<Figure size 1000x600 with 1 Axes>"
      ]
     },
     "metadata": {},
     "output_type": "display_data"
    }
   ],
   "source": [
    "plt.figure(figsize=(10, 6))\n",
    "plt.plot(data['Year'], data['Marriages_per_1000'], label='Marriages per 1000', marker='o')\n",
    "plt.plot(data['Year'], data['Divorces_per_1000'], label='Divorces per 1000', marker='o')\n",
    "\n",
    "plt.xlabel('Year')\n",
    "plt.ylabel('Rate per 1000 people')\n",
    "plt.title('Marriages and Divorces per Capita in the U.S. (1867-2014)')\n",
    "plt.legend()\n",
    "plt.grid(True)\n",
    "\n",
    "plt.show()"
   ]
  },
  {
   "cell_type": "markdown",
   "id": "51ac204b-ca1f-4e9d-9e7b-7bbd46f979e1",
   "metadata": {},
   "source": [
    "Question 7"
   ]
  },
  {
   "cell_type": "code",
   "execution_count": 125,
   "id": "446b6db2-5b1b-4c46-80f9-c37dec4b4cc8",
   "metadata": {},
   "outputs": [
    {
     "data": {
      "image/png": "[encoded data removed]",
      "text/plain": [
       "<Figure size 800x600 with 1 Axes>"
      ]
     },
     "metadata": {},
     "output_type": "display_data"
    }
   ],
   "source": [
    "import pandas as pd\n",
    "import matplotlib.pyplot as plt\n",
    "\n",
    "\n",
    "file_path = r\"C:\\Users\\HP\\Desktop\\Problem set 3\\us-marriages-divorces-1867-2014.csv\"\n",
    "data = pd.read_csv(file_path)\n",
    "\n",
    "\n",
    "filtered_data = data[data[\"Year\"].isin([1900, 1950, 2000])]\n",
    "\n",
    "\n",
    "x = filtered_data[\"Year\"] \n",
    "marriages = filtered_data[\"Marriages_per_1000\"]\n",
    "divorces = filtered_data[\"Divorces_per_1000\"]\n",
    "\n",
    "\n",
    "bar_width = 0.4\n",
    "x_positions = range(len(x))\n",
    "\n",
    "plt.figure(figsize=(8, 6))\n",
    "\n",
    "\n",
    "plt.bar([pos - bar_width / 2 for pos in x_positions], marriages, width=bar_width, label=\"Marriages per 1,000\", color=\"orange\")\n",
    "plt.bar([pos + bar_width / 2 for pos in x_positions], divorces, width=bar_width, label=\"Divorces per 1,000\", color=\"green\")\n",
    "\n",
    "\n",
    "plt.xlabel(\"Year\", fontsize=12)\n",
    "plt.ylabel(\"Number per 1,000 people\", fontsize=12)\n",
    "plt.title(\"U.S. Marriages and Divorces per Capita (1900, 1950, 2000)\", fontsize=14)\n",
    "plt.xticks(ticks=x_positions, labels=filtered_data[\"Year\"])\n",
    "plt.legend()\n",
    "\n",
    "\n",
    "plt.grid(axis=\"y\", linestyle=\"--\", alpha=0.7)\n",
    "plt.show()"
   ]
  },
  {
   "cell_type": "markdown",
   "id": "d0ce1163-207e-4718-94a8-5486b37cfd5a",
   "metadata": {},
   "source": [
    "Question 8"
   ]
  },
  {
   "cell_type": "code",
   "execution_count": 192,
   "id": "54ee00e2-0bc8-4d08-b225-2a68d60c18e2",
   "metadata": {},
   "outputs": [
    {
     "name": "stdout",
     "output_type": "stream",
     "text": [
      "Index(['Actor', 'Kill Count'], dtype='object')\n"
     ]
    },
    {
     "data": {
      "image/png": "[encoded data removed]",
      "text/plain": [
       "<Figure size 1000x600 with 1 Axes>"
      ]
     },
     "metadata": {},
     "output_type": "display_data"
    }
   ],
   "source": [
    "import pandas as pd\n",
    "import matplotlib.pyplot as plt\n",
    "\n",
    "file_path = r\"C:\\Users\\HP\\Desktop\\Problem set 3\\actor_kill_counts.csv\"\n",
    "data = pd.read_csv(file_path)\n",
    "\n",
    "print(data.columns)\n",
    "\n",
    "data.columns = data.columns.str.strip()\n",
    "\n",
    "sorted_data = data.sort_values(by=\"Kill Count\", ascending=False)  \n",
    "\n",
    "plt.figure(figsize=(10, 6))  \n",
    "plt.barh(sorted_data[\"Actor\"], sorted_data[\"Kill Count\"], color=\"Blue\")  \n",
    "\n",
    "plt.xlabel(\"Kill Count\", fontsize=12)\n",
    "plt.ylabel(\"Actor\", fontsize=12)\n",
    "plt.title(\"Deadliest Actors in Hollywood\", fontsize=14)\n",
    "plt.grid(axis=\"x\", linestyle=\"--\", alpha=0.7)  \n",
    "\n",
    "plt.tight_layout()  \n",
    "plt.show()"
   ]
  },
  {
   "cell_type": "markdown",
   "id": "87f357ae-161a-4689-a1fd-0b00ce46bffc",
   "metadata": {},
   "source": [
    "Question 9"
   ]
  },
  {
   "cell_type": "code",
   "execution_count": 137,
   "id": "06f06e02-cf0a-43de-b410-ec258d60d222",
   "metadata": {},
   "outputs": [
    {
     "data": {
      "image/png": "[encoded data removed]",
      "text/plain": [
       "<Figure size 800x800 with 1 Axes>"
      ]
     },
     "metadata": {},
     "output_type": "display_data"
    }
   ],
   "source": [
    "import pandas as pd\n",
    "import matplotlib.pyplot as plt\n",
    "\n",
    "file_path = r\"C:\\Users\\HP\\Desktop\\Problem set 3\\roman-emperor-reigns.csv\"\n",
    "data = pd.read_csv(file_path)\n",
    "\n",
    "cause_of_death_counts = data['Cause_of_Death'].value_counts()\n",
    "assassinated_count = cause_of_death_counts.get('Assassinated', 0)\n",
    "total_emperors = cause_of_death_counts.sum()\n",
    "\n",
    "labels = ['Assassinated', 'Other']\n",
    "sizes = [assassinated_count, total_emperors - assassinated_count]\n",
    "colors = ['red', 'blue']\n",
    "\n",
    "plt.figure(figsize=(8, 8))\n",
    "plt.pie(sizes, labels=labels, colors=colors, autopct='%1.1f%%', startangle=90)\n",
    "plt.title('Fraction of Roman Emperors Assassinated')\n",
    "plt.axis('equal')  \n",
    "\n",
    "plt.show()\n"
   ]
  },
  {
   "cell_type": "markdown",
   "id": "ac61a4f3-76f4-44a9-b57a-f82a46670abf",
   "metadata": {},
   "source": [
    "Question 10"
   ]
  },
  {
   "cell_type": "code",
   "execution_count": 139,
   "id": "a76594bc-548e-40f8-9de8-4dfc410b97c6",
   "metadata": {},
   "outputs": [
    {
     "data": {
      "image/png": "[encoded data removed]",
      "text/plain": [
       "<Figure size 1000x600 with 2 Axes>"
      ]
     },
     "metadata": {},
     "output_type": "display_data"
    }
   ],
   "source": [
    "import pandas as pd\n",
    "import matplotlib.pyplot as plt\n",
    "\n",
    "file_path = r\"C:\\Users\\HP\\Desktop\\Problem set 3\\arcade-revenue-vs-cs-doctorates.csv\"\n",
    "data = pd.read_csv(file_path)\n",
    "\n",
    "plt.figure(figsize=(10, 6))\n",
    "scatter = plt.scatter(\n",
    "    data['Total Arcade Revenue (billions)'],\n",
    "    data['Computer Science Doctorates Awarded (US)'],\n",
    "    c=data['Year'],\n",
    "    cmap='viridis',\n",
    "    edgecolor='k',\n",
    "    s=100\n",
    ")\n",
    "\n",
    "plt.xlabel('Total Arcade Revenue (billions)')\n",
    "plt.ylabel('Computer Science Doctorates Awarded (US)')\n",
    "plt.title('Arcade Revenue vs. CS Doctorates (2000-2009)')\n",
    "plt.colorbar(scatter, label='Year')\n",
    "plt.grid(True)\n",
    "\n",
    "plt.show()\n"
   ]
  },
  {
   "cell_type": "code",
   "execution_count": null,
   "id": "5859ad61-b328-4e00-af01-7300a5ee012a",
   "metadata": {},
   "outputs": [],
   "source": []
  }
 ],
 "metadata": {
  "kernelspec": {
   "display_name": "Python 3 (ipykernel)",
   "language": "python",
   "name": "python3"
  },
  "language_info": {
   "codemirror_mode": {
    "name": "ipython",
    "version": 3
   },
   "file_extension": ".py",
   "mimetype": "text/x-python",
   "name": "python",
   "nbconvert_exporter": "python",
   "pygments_lexer": "ipython3",
   "version": "3.12.4"
  }
 },
 "nbformat": 4,
 "nbformat_minor": 5
}
